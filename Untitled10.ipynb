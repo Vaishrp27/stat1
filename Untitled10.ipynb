{
  "nbformat": 4,
  "nbformat_minor": 0,
  "metadata": {
    "colab": {
      "provenance": []
    },
    "kernelspec": {
      "name": "python3",
      "display_name": "Python 3"
    },
    "language_info": {
      "name": "python"
    }
  },
  "cells": [
    {
      "cell_type": "markdown",
      "source": [],
      "metadata": {
        "id": "eRuehAxQBWOv"
      }
    },
    {
      "cell_type": "markdown",
      "source": [
        "1. Explain the different types of data (qualitative and quantitative) and provide examples of each. Discuss\n",
        "nominal, ordinal, interval, and ratio scales\n",
        "Qualitative (Categorical) Data\n",
        "Definition: Data that describes qualities or categories and cannot be measured numerically in a meaningful way\n",
        "Quantitative (Numerical) Data\n",
        "Definition: Data that represents quantities and can be measured numerically.\n",
        "2. What are the measures of central tendency, and when should you use each? Discuss the mean, median,\n",
        "and mode with examples and situations where each is appropriate.\n",
        "1. Mean (Average)\n",
        "Definition: The mean is the sum of all values divided by the number of values\n",
        " Median\n",
        "Definition: The median is the middle value when data is arranged in ascending or descending order. If there is an even number of values, it’s the average of the two middle ones.\n",
        " Mode\n",
        "Definition: The mode is the value that appears most frequently in a dataset.\n",
        "3. Explain the concept of dispersion. How do variance and standard deviation measure the spread of data?\n",
        "What is Dispersion?\n",
        "Dispersion refers to the spread or variability of a dataset — how much the data values differ from each other and from the central value (like the mean).\n",
        "\n",
        "If data points are close together, dispersion is low.\n",
        "\n",
        "If data points are widely spread out, dispersion is high.\n",
        "4.What is a Box Plot?\n",
        "A box plot (also known as a box-and-whisker plot) is a graphical representation of the distribution of a dataset. It shows key summary statistics at a glance, helping you understand the spread, central tendency, and skewness of the data?\n",
        "5. Discuss the role of random sampling in making inferences about populations\n",
        "Random sampling is a method of selecting a subset of individuals from a larger population in such a way that every member has an equal chance of being chosen.\n",
        "\n",
        "This approach ensures that the sample is representative of the population, which is crucial for making valid statistical inferences.\n",
        "6.What Is Skewness?\n",
        "Skewness is a statistical measure that describes the asymmetry of a distribution around its mean.\n",
        "\n",
        "A perfectly symmetrical distribution has a skewness of 0.\n",
        "7.What Is the Interquartile Range (IQR)?\n",
        "The Interquartile Range (IQR) is a measure of statistical dispersion, or how spread out the middle 50% of a dataset is. It represents the range between the first quartile (Q1) and the third quartile (Q3):\n",
        "8.8. Discuss the conditions under which the binomial distribution is used\n",
        "Fixed Number of Trials ,Only Two Outcomes per Trial (Success or Failure),Constant Probability of Success (p),Independent Trials\n",
        "9. Explain the properties of the normal distribution and the empirical rule (68-95-99.7 rule)\n",
        "The normal distribution is a symmetric, bell-shaped probability distribution that is widely used in statistics. It describes how many natural phenomena (like heights, test scores, or measurement errors) tend to cluster around a central value with fewer values at the extremes.\n",
        "10. Provide a real-life example of a Poisson process and calculate the probability for a specific event\n",
        "A Poisson process models the number of times an event occurs in a fixed interval of time or space, under the following conditions:\n",
        "\n",
        "Events occur independently.\n",
        "\n",
        "The average rate of occurrence is constant.\n",
        "\n",
        "Two events cannot occur at exactly the same time (i.e., events are discrete).\n",
        "11.Explain what a random variable is and differentiate between discrete and continuous random variables\n",
        "A random variable is a numerical value that represents the outcome of a random experiment or process. It assigns a number to each possible outcome in a sample space.\n",
        "\n",
        "It is a function that maps outcomes of a random phenomenon to real numbers.\n",
        "\n",
        "Used in probability and statistics to quantify uncertainty.\n",
        "12. Provide an example dataset, calculate both covariance and correlation, and interpret the results\n",
        "| Person | X (Hours Studied) | Y (Test Score) |\n",
        "| ------ | ----------------- | -------------- |\n",
        "| 1      | 2                 | 65             |\n",
        "| 2      | 4                 | 70             |\n",
        "| 3      | 6                 | 75             |\n",
        "| 4      | 8                 | 80             |\n",
        "| 5      | 10                | 85             |\n",
        "| Person | $X_i - \\bar{X}$ | $Y_i - \\bar{Y}$ | Product $(X_i - \\bar{X})(Y_i - \\bar{Y})$ |\n",
        "| ------ | --------------- | --------------- | ---------------------------------------- |\n",
        "| 1      | 2 - 6 = -4      | 65 - 75 = -10   | (-4) \\* (-10) = 40                       |\n",
        "| 2      | 4 - 6 = -2      | 70 - 75 = -5    | (-2) \\* (-5) = 10                        |\n",
        "| 3      | 6 - 6 = 0       | 75 - 75 = 0     | 0 \\* 0 = 0                               |\n",
        "| 4      | 8 - 6 = 2       | 80 - 75 = 5     | 2 \\* 5 = 10                              |\n",
        "| 5      | 10 - 6 = 4      | 85 - 75 = 10    | 4 \\* 10 = 40                             |\n",
        "\n",
        "\n",
        "\n",
        "\n",
        "\n",
        "\n"
      ],
      "metadata": {
        "id": "bqNjfhK1BYQ-"
      }
    }
  ]
}